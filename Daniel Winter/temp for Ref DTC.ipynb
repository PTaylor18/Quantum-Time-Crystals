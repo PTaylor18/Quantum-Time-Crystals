{
 "cells": [
  {
   "cell_type": "code",
   "execution_count": 1,
   "metadata": {},
   "outputs": [],
   "source": [
    "# Useful additional packages\n",
    "import matplotlib.pyplot as plt\n",
    "%matplotlib inline\n",
    "import numpy as np\n",
    "from math import pi\n",
    "from numpy import random\n",
    "from qiskit.aqua.operators import I, X, Y, Z\n"
   ]
  },
  {
   "cell_type": "code",
   "execution_count": 2,
   "metadata": {},
   "outputs": [],
   "source": [
    "from qiskit import QuantumCircuit, ClassicalRegister, QuantumRegister, execute\n",
    "from qiskit.tools.visualization import circuit_drawer\n",
    "from qiskit.visualization import plot_histogram\n",
    "from qiskit.quantum_info import state_fidelity\n",
    "from qiskit import BasicAer\n",
    "from qiskit import Aer\n",
    "\n",
    "backend = BasicAer.get_backend('unitary_simulator')"
   ]
  },
  {
   "cell_type": "code",
   "execution_count": 3,
   "metadata": {
    "scrolled": true
   },
   "outputs": [
    {
     "name": "stdout",
     "output_type": "stream",
     "text": [
      "{'101': 3, '110': 42, '111': 1955}\n",
      "{'000': 1828, '001': 163, '010': 9}\n",
      "{'101': 21, '110': 44, '111': 1935}\n",
      "{'000': 1946, '010': 54}\n",
      "{'100': 1, '101': 85, '110': 46, '111': 1868}\n",
      "{'000': 1707, '001': 179, '010': 112, '011': 2}\n",
      "{'100': 4, '101': 147, '110': 46, '111': 1803}\n",
      "{'000': 1806, '001': 1, '010': 193}\n",
      "{'100': 6, '101': 225, '110': 51, '111': 1718}\n",
      "{'000': 1571, '001': 141, '010': 288}\n",
      "[{'101': 3, '110': 42, '111': 1955}, {'000': 1828, '001': 163, '010': 9}, {'101': 21, '110': 44, '111': 1935}, {'000': 1946, '010': 54}, {'100': 1, '101': 85, '110': 46, '111': 1868}, {'000': 1707, '001': 179, '010': 112, '011': 2}, {'100': 4, '101': 147, '110': 46, '111': 1803}, {'000': 1806, '001': 1, '010': 193}, {'100': 6, '101': 225, '110': 51, '111': 1718}, {'000': 1571, '001': 141, '010': 288}]\n",
      "     ┌───┐        ┌─────────────┐                ░ ┌───┐        ┌─────────────┐»\n",
      "q_0: ┤ X ├───■────┤ RX(0.30052) ├────────────────░─┤ X ├───■────┤ RX(0.30052) ├»\n",
      "     ├───┤┌──┴───┐└─────────────┘┌─────────────┐ ░ ├───┤┌──┴───┐└─────────────┘»\n",
      "q_1: ┤ X ├┤ P(π) ├───────■───────┤ RX(0.08203) ├─░─┤ X ├┤ P(π) ├───────■───────»\n",
      "     ├───┤└──────┘    ┌──┴───┐   └─────────────┘ ░ ├───┤└──────┘    ┌──┴───┐   »\n",
      "q_2: ┤ X ├────────────┤ P(π) ├───────────────────░─┤ X ├────────────┤ P(π) ├───»\n",
      "     └───┘            └──────┘                   ░ └───┘            └──────┘   »\n",
      "c: 3/══════════════════════════════════════════════════════════════════════════»\n",
      "                                                                               »\n",
      "«                     ░ ┌───┐        ┌─────────────┐                ░ ┌───┐»\n",
      "«q_0: ────────────────░─┤ X ├───■────┤ RX(0.30052) ├────────────────░─┤ X ├»\n",
      "«     ┌─────────────┐ ░ ├───┤┌──┴───┐└─────────────┘┌─────────────┐ ░ ├───┤»\n",
      "«q_1: ┤ RX(0.08203) ├─░─┤ X ├┤ P(π) ├───────■───────┤ RX(0.08203) ├─░─┤ X ├»\n",
      "«     └─────────────┘ ░ ├───┤└──────┘    ┌──┴───┐   └─────────────┘ ░ ├───┤»\n",
      "«q_2: ────────────────░─┤ X ├────────────┤ P(π) ├───────────────────░─┤ X ├»\n",
      "«                     ░ └───┘            └──────┘                   ░ └───┘»\n",
      "«c: 3/═════════════════════════════════════════════════════════════════════»\n",
      "«                                                                          »\n",
      "«             ┌─────────────┐                ░ ┌───┐        ┌─────────────┐»\n",
      "«q_0: ───■────┤ RX(0.30052) ├────────────────░─┤ X ├───■────┤ RX(0.30052) ├»\n",
      "«     ┌──┴───┐└─────────────┘┌─────────────┐ ░ ├───┤┌──┴───┐└─────────────┘»\n",
      "«q_1: ┤ P(π) ├───────■───────┤ RX(0.08203) ├─░─┤ X ├┤ P(π) ├───────■───────»\n",
      "«     └──────┘    ┌──┴───┐   └─────────────┘ ░ ├───┤└──────┘    ┌──┴───┐   »\n",
      "«q_2: ────────────┤ P(π) ├───────────────────░─┤ X ├────────────┤ P(π) ├───»\n",
      "«                 └──────┘                   ░ └───┘            └──────┘   »\n",
      "«c: 3/═════════════════════════════════════════════════════════════════════»\n",
      "«                                                                          »\n",
      "«                     ░ ┌───┐        ┌─────────────┐                ░ ┌───┐»\n",
      "«q_0: ────────────────░─┤ X ├───■────┤ RX(0.30052) ├────────────────░─┤ X ├»\n",
      "«     ┌─────────────┐ ░ ├───┤┌──┴───┐└─────────────┘┌─────────────┐ ░ ├───┤»\n",
      "«q_1: ┤ RX(0.08203) ├─░─┤ X ├┤ P(π) ├───────■───────┤ RX(0.08203) ├─░─┤ X ├»\n",
      "«     └─────────────┘ ░ ├───┤└──────┘    ┌──┴───┐   └─────────────┘ ░ ├───┤»\n",
      "«q_2: ────────────────░─┤ X ├────────────┤ P(π) ├───────────────────░─┤ X ├»\n",
      "«                     ░ └───┘            └──────┘                   ░ └───┘»\n",
      "«c: 3/═════════════════════════════════════════════════════════════════════»\n",
      "«                                                                          »\n",
      "«             ┌─────────────┐                ░ ┌───┐        ┌─────────────┐»\n",
      "«q_0: ───■────┤ RX(0.30052) ├────────────────░─┤ X ├───■────┤ RX(0.30052) ├»\n",
      "«     ┌──┴───┐└─────────────┘┌─────────────┐ ░ ├───┤┌──┴───┐└─────────────┘»\n",
      "«q_1: ┤ P(π) ├───────■───────┤ RX(0.08203) ├─░─┤ X ├┤ P(π) ├───────■───────»\n",
      "«     └──────┘    ┌──┴───┐   └─────────────┘ ░ ├───┤└──────┘    ┌──┴───┐   »\n",
      "«q_2: ────────────┤ P(π) ├───────────────────░─┤ X ├────────────┤ P(π) ├───»\n",
      "«                 └──────┘                   ░ └───┘            └──────┘   »\n",
      "«c: 3/═════════════════════════════════════════════════════════════════════»\n",
      "«                                                                          »\n",
      "«                     ░ ┌───┐        ┌─────────────┐                ░ ┌───┐»\n",
      "«q_0: ────────────────░─┤ X ├───■────┤ RX(0.30052) ├────────────────░─┤ X ├»\n",
      "«     ┌─────────────┐ ░ ├───┤┌──┴───┐└─────────────┘┌─────────────┐ ░ ├───┤»\n",
      "«q_1: ┤ RX(0.08203) ├─░─┤ X ├┤ P(π) ├───────■───────┤ RX(0.08203) ├─░─┤ X ├»\n",
      "«     └─────────────┘ ░ ├───┤└──────┘    ┌──┴───┐   └─────────────┘ ░ ├───┤»\n",
      "«q_2: ────────────────░─┤ X ├────────────┤ P(π) ├───────────────────░─┤ X ├»\n",
      "«                     ░ └───┘            └──────┘                   ░ └───┘»\n",
      "«c: 3/═════════════════════════════════════════════════════════════════════»\n",
      "«                                                                          »\n",
      "«             ┌─────────────┐                ░ ┌─┐      \n",
      "«q_0: ───■────┤ RX(0.30052) ├────────────────░─┤M├──────\n",
      "«     ┌──┴───┐└─────────────┘┌─────────────┐ ░ └╥┘┌─┐   \n",
      "«q_1: ┤ P(π) ├───────■───────┤ RX(0.08203) ├─░──╫─┤M├───\n",
      "«     └──────┘    ┌──┴───┐   └─────────────┘ ░  ║ └╥┘┌─┐\n",
      "«q_2: ────────────┤ P(π) ├───────────────────░──╫──╫─┤M├\n",
      "«                 └──────┘                   ░  ║  ║ └╥┘\n",
      "«c: 3/══════════════════════════════════════════╩══╩══╩═\n",
      "«                                               0  1  2 \n"
     ]
    },
    {
     "data": {
      "text/plain": [
       "Text(0, 0.5, 'Magnetisation, M_z')"
      ]
     },
     "execution_count": 3,
     "metadata": {},
     "output_type": "execute_result"
    },
    {
     "data": {
      "image/png": "[encoded data removed]",
      "text/plain": [
       "<Figure size 432x288 with 1 Axes>"
      ]
     },
     "metadata": {
      "needs_background": "light"
     },
     "output_type": "display_data"
    }
   ],
   "source": [
    "nq=3\n",
    "n=10\n",
    "# Create a Quantum Circuit acting on a quantum register of i qubits\n",
    "circ = QuantumCircuit(nq)\n",
    "\n",
    "#creating the state array\n",
    "state = []\n",
    "    \n",
    "#Creating the angle of rotation\n",
    "r=random.rand(nq)*pi/10\n",
    "\n",
    "#Making the cicuit\n",
    "j=0\n",
    "while j<n:\n",
    "    \n",
    "    # Add controlled phase gates\n",
    "    i=0\n",
    "    while i<nq:\n",
    "        circ.x(i)\n",
    "        i+=1\n",
    "    i=0\n",
    "    while i+1<nq:\n",
    "        circ.cp(pi,i,i+1)\n",
    "        i+=1\n",
    "    i=0\n",
    "    while i+1<nq:\n",
    "        circ.rx(r[i],i)\n",
    "        i+=1\n",
    "            \n",
    "    circ.barrier(range(nq))\n",
    "    meas = QuantumCircuit(nq, nq)\n",
    "    meas.measure(range(nq), range(nq))\n",
    "    qc = circ + meas\n",
    "    \n",
    "    # Use Aer's qasm_simulator\n",
    "    backend = Aer.get_backend('qasm_simulator')\n",
    "    job = execute(qc, backend, shots=2000)\n",
    "    result = job.result()\n",
    "    counts = result.get_counts(qc)\n",
    "    print(counts)\n",
    "    \n",
    "    state.append(counts)\n",
    "    \n",
    "    j+=1\n",
    "\n",
    "print(state)    \n",
    "print(qc.draw())\n",
    "    \n",
    "mag = []; t = []\n",
    "for k in range(len(state)):\n",
    "    if '0'*nq in state[k]:\n",
    "        mag.append(1)\n",
    "        mag.append(1)\n",
    "    elif '1'*nq in state[k]:\n",
    "        mag.append(-1)\n",
    "        mag.append(-1)\n",
    "    else: break\n",
    "    t.append(k)\n",
    "    t.append(k+1)\n",
    "\n",
    "\n",
    "plt.plot(t,mag)\n",
    "plt.title(\"Magnetisation of Qubits\")\n",
    "plt.xlabel(\"Time\")\n",
    "plt.ylabel(\"Magnetisation, M_z\")"
   ]
  },
  {
   "cell_type": "code",
   "execution_count": 9,
   "metadata": {},
   "outputs": [
    {
     "ename": "TypeError",
     "evalue": "bad operand type for unary ~: 'Counts'",
     "output_type": "error",
     "traceback": [
      "\u001b[1;31m---------------------------------------------------------------------------\u001b[0m",
      "\u001b[1;31mTypeError\u001b[0m                                 Traceback (most recent call last)",
      "\u001b[1;32m<ipython-input-9-18fdb52e5242>\u001b[0m in \u001b[0;36m<module>\u001b[1;34m\u001b[0m\n\u001b[1;32m----> 1\u001b[1;33m \u001b[0mexpectation_value\u001b[0m \u001b[1;33m=\u001b[0m \u001b[1;33m(\u001b[0m\u001b[1;33m~\u001b[0m\u001b[0mstate\u001b[0m\u001b[1;33m[\u001b[0m\u001b[1;36m1\u001b[0m\u001b[1;33m]\u001b[0m\u001b[1;33m@\u001b[0m\u001b[0mZ\u001b[0m\u001b[1;33m^\u001b[0m\u001b[0mZ\u001b[0m\u001b[1;33m@\u001b[0m\u001b[0mstate\u001b[0m\u001b[1;33m[\u001b[0m\u001b[1;36m1\u001b[0m\u001b[1;33m]\u001b[0m\u001b[1;33m)\u001b[0m\u001b[1;33m.\u001b[0m\u001b[0meval\u001b[0m\u001b[1;33m(\u001b[0m\u001b[1;33m)\u001b[0m\u001b[1;33m\u001b[0m\u001b[1;33m\u001b[0m\u001b[0m\n\u001b[0m",
      "\u001b[1;31mTypeError\u001b[0m: bad operand type for unary ~: 'Counts'"
     ]
    }
   ],
   "source": [
    "expectation_value = (~state[1]@Z^Z@state[1]).eval()"
   ]
  },
  {
   "cell_type": "code",
   "execution_count": 7,
   "metadata": {},
   "outputs": [
    {
     "data": {
      "text/plain": [
       "{'000': 1828, '001': 163, '010': 9}"
      ]
     },
     "execution_count": 7,
     "metadata": {},
     "output_type": "execute_result"
    }
   ],
   "source": [
    "state[1]"
   ]
  },
  {
   "cell_type": "code",
   "execution_count": 12,
   "metadata": {},
   "outputs": [
    {
     "ename": "TypeError",
     "evalue": "bad operand type for unary ~: 'Counts'",
     "output_type": "error",
     "traceback": [
      "\u001b[1;31m---------------------------------------------------------------------------\u001b[0m",
      "\u001b[1;31mTypeError\u001b[0m                                 Traceback (most recent call last)",
      "\u001b[1;32m<ipython-input-12-2a2ac6c1af14>\u001b[0m in \u001b[0;36m<module>\u001b[1;34m\u001b[0m\n\u001b[0;32m      4\u001b[0m \u001b[0moperator\u001b[0m \u001b[1;33m=\u001b[0m \u001b[0mZ\u001b[0m \u001b[1;33m^\u001b[0m \u001b[0mZ\u001b[0m\u001b[1;33m\u001b[0m\u001b[1;33m\u001b[0m\u001b[0m\n\u001b[0;32m      5\u001b[0m \u001b[0mpsi\u001b[0m \u001b[1;33m=\u001b[0m \u001b[1;33m(\u001b[0m\u001b[1;33m(\u001b[0m\u001b[0mstate\u001b[0m\u001b[1;33m[\u001b[0m\u001b[1;36m1\u001b[0m\u001b[1;33m]\u001b[0m\u001b[1;33m)\u001b[0m\u001b[1;33m)\u001b[0m\u001b[1;33m\u001b[0m\u001b[1;33m\u001b[0m\u001b[0m\n\u001b[1;32m----> 6\u001b[1;33m \u001b[0mexpectation_value\u001b[0m \u001b[1;33m=\u001b[0m \u001b[1;33m(\u001b[0m\u001b[1;33m~\u001b[0m\u001b[0mpsi\u001b[0m \u001b[1;33m@\u001b[0m \u001b[0moperator\u001b[0m \u001b[1;33m@\u001b[0m \u001b[0mpsi\u001b[0m\u001b[1;33m)\u001b[0m\u001b[1;33m.\u001b[0m\u001b[0meval\u001b[0m\u001b[1;33m(\u001b[0m\u001b[1;33m)\u001b[0m\u001b[1;33m\u001b[0m\u001b[1;33m\u001b[0m\u001b[0m\n\u001b[0m\u001b[0;32m      7\u001b[0m \u001b[0mprint\u001b[0m\u001b[1;33m(\u001b[0m\u001b[0mexpectation_value\u001b[0m\u001b[1;33m.\u001b[0m\u001b[0mreal\u001b[0m\u001b[1;33m)\u001b[0m\u001b[1;33m\u001b[0m\u001b[1;33m\u001b[0m\u001b[0m\n",
      "\u001b[1;31mTypeError\u001b[0m: bad operand type for unary ~: 'Counts'"
     ]
    }
   ],
   "source": [
    "import numpy as np\n",
    "from qiskit.aqua.operators import Z, Zero, One\n",
    "\n",
    "operator = Z ^ Z \n",
    "psi = ((state[1]))\n",
    "expectation_value = (~psi @ operator @ psi).eval()\n",
    "print(expectation_value.real)  "
   ]
  },
  {
   "cell_type": "code",
   "execution_count": null,
   "metadata": {},
   "outputs": [],
   "source": []
  }
 ],
 "metadata": {
  "kernelspec": {
   "display_name": "Python 3",
   "language": "python",
   "name": "python3"
  },
  "language_info": {
   "codemirror_mode": {
    "name": "ipython",
    "version": 3
   },
   "file_extension": ".py",
   "mimetype": "text/x-python",
   "name": "python",
   "nbconvert_exporter": "python",
   "pygments_lexer": "ipython3",
   "version": "3.7.1"
  }
 },
 "nbformat": 4,
 "nbformat_minor": 2
}
