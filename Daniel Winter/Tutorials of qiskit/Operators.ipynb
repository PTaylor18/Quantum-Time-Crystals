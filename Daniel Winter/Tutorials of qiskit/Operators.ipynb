{
 "cells": [
  {
   "cell_type": "markdown",
   "metadata": {},
   "source": [
    "# Pauli operators, sums, compositions, and tensor products"
   ]
  },
  {
   "cell_type": "markdown",
   "metadata": {},
   "source": [
    "The most important base operators are the Pauli operators. The Pauli operators are represented like this."
   ]
  },
  {
   "cell_type": "code",
   "execution_count": 1,
   "metadata": {},
   "outputs": [
    {
     "name": "stdout",
     "output_type": "stream",
     "text": [
      "I X Y Z\n"
     ]
    }
   ],
   "source": [
    "from qiskit.aqua.operators import I, X, Y, Z\n",
    "print(I, X, Y, Z)"
   ]
  },
  {
   "cell_type": "code",
   "execution_count": 2,
   "metadata": {},
   "outputs": [
    {
     "name": "stdout",
     "output_type": "stream",
     "text": [
      "1.5 * I\n",
      "2.5 * X\n"
     ]
    }
   ],
   "source": [
    "#Can also have coefficients\n",
    "print(1.5 * I)\n",
    "print(2.5 * X)"
   ]
  },
  {
   "cell_type": "code",
   "execution_count": 3,
   "metadata": {},
   "outputs": [
    {
     "name": "stdout",
     "output_type": "stream",
     "text": [
      "SummedOp([\n",
      "  X,\n",
      "  2.0 * Y\n",
      "])\n"
     ]
    }
   ],
   "source": [
    "#Sum\n",
    "print(X + 2.0 * Y)"
   ]
  },
  {
   "cell_type": "code",
   "execution_count": 4,
   "metadata": {},
   "outputs": [
    {
     "name": "stdout",
     "output_type": "stream",
     "text": [
      "XYZ\n"
     ]
    }
   ],
   "source": [
    "#Tensor product\n",
    "print(X^Y^Z)"
   ]
  },
  {
   "cell_type": "code",
   "execution_count": 5,
   "metadata": {},
   "outputs": [
    {
     "name": "stdout",
     "output_type": "stream",
     "text": [
      "1j * I\n"
     ]
    }
   ],
   "source": [
    "# Composition\n",
    "print(X @ Y @ Z)"
   ]
  },
  {
   "cell_type": "code",
   "execution_count": 6,
   "metadata": {},
   "outputs": [
    {
     "name": "stdout",
     "output_type": "stream",
     "text": [
      "ComposedOp([\n",
      "  SummedOp([\n",
      "    X,\n",
      "    Y\n",
      "  ]),\n",
      "  SummedOp([\n",
      "    Y,\n",
      "    Z\n",
      "  ])\n",
      "])\n"
     ]
    }
   ],
   "source": [
    "print((X + Y) @ (Y + Z))"
   ]
  },
  {
   "cell_type": "code",
   "execution_count": 7,
   "metadata": {},
   "outputs": [
    {
     "name": "stdout",
     "output_type": "stream",
     "text": [
      "TensoredOp([\n",
      "  SummedOp([\n",
      "    X,\n",
      "    Y\n",
      "  ]),\n",
      "  SummedOp([\n",
      "    Y,\n",
      "    Z\n",
      "  ])\n",
      "])\n"
     ]
    }
   ],
   "source": [
    "print((X + Y) ^ (Y + Z))"
   ]
  },
  {
   "cell_type": "code",
   "execution_count": 8,
   "metadata": {},
   "outputs": [
    {
     "data": {
      "text/plain": [
       "(PauliOp(Pauli(z=[False], x=[False]), coeff=1.0),\n",
       " PauliOp(Pauli(z=[False], x=[True]), coeff=1.0))"
      ]
     },
     "execution_count": 8,
     "metadata": {},
     "output_type": "execute_result"
    }
   ],
   "source": [
    "(I, X)"
   ]
  },
  {
   "cell_type": "code",
   "execution_count": 9,
   "metadata": {},
   "outputs": [
    {
     "data": {
      "text/plain": [
       "PauliOp(Pauli(z=[True, True, False], x=[False, True, True]), coeff=2.0)"
      ]
     },
     "execution_count": 9,
     "metadata": {},
     "output_type": "execute_result"
    }
   ],
   "source": [
    "2.0 * X^Y^Z"
   ]
  },
  {
   "cell_type": "code",
   "execution_count": 10,
   "metadata": {},
   "outputs": [
    {
     "name": "stdout",
     "output_type": "stream",
     "text": [
      "1.1 * TensoredOp([\n",
      "  1.2 * X,\n",
      "  SummedOp([\n",
      "    Y,\n",
      "    1.3 * Z\n",
      "  ])\n",
      "])\n"
     ]
    }
   ],
   "source": [
    "print(1.1 * ((1.2 * X)^(Y + (1.3 * Z))))"
   ]
  },
  {
   "cell_type": "markdown",
   "metadata": {},
   "source": [
    "# Part I: State Functions and Measurements"
   ]
  },
  {
   "cell_type": "code",
   "execution_count": 11,
   "metadata": {},
   "outputs": [],
   "source": [
    "from qiskit.aqua.operators import (StateFn, Zero, One, Plus, Minus, H,\n",
    "                                   DictStateFn, VectorStateFn, CircuitStateFn, OperatorStateFn)"
   ]
  },
  {
   "cell_type": "markdown",
   "metadata": {},
   "source": [
    "Zero and One represent the quantum states |0> and |1> "
   ]
  },
  {
   "cell_type": "code",
   "execution_count": 12,
   "metadata": {},
   "outputs": [
    {
     "name": "stdout",
     "output_type": "stream",
     "text": [
      "DictStateFn({'0': 1}) DictStateFn({'1': 1})\n"
     ]
    }
   ],
   "source": [
    "print(Zero, One)"
   ]
  },
  {
   "cell_type": "markdown",
   "metadata": {},
   "source": [
    "Plus and Minus, representing states (|0> + |1>)/sqrt(2) and (|0> - |1>)/sqrt(2) are represented via circuits. H is a synonym for Plus"
   ]
  },
  {
   "cell_type": "code",
   "execution_count": 13,
   "metadata": {},
   "outputs": [
    {
     "name": "stdout",
     "output_type": "stream",
     "text": [
      "CircuitStateFn(\n",
      "     ┌───┐\n",
      "q_0: ┤ H ├\n",
      "     └───┘\n",
      ") CircuitStateFn(\n",
      "     ┌───┐┌───┐\n",
      "q_0: ┤ X ├┤ H ├\n",
      "     └───┘└───┘\n",
      ")\n"
     ]
    }
   ],
   "source": [
    "print(Plus, Minus)"
   ]
  },
  {
   "cell_type": "code",
   "execution_count": 14,
   "metadata": {},
   "outputs": [
    {
     "name": "stdout",
     "output_type": "stream",
     "text": [
      "1.0\n",
      "0.0\n",
      "1.0\n",
      "(0.7071067811865476+0j)\n",
      "(-0.7071067811865476+8.7e-17j)\n"
     ]
    }
   ],
   "source": [
    "print(Zero.eval('0'))\n",
    "print(Zero.eval('1'))\n",
    "print(One.eval('1'))\n",
    "print(Plus.eval('0'))\n",
    "print(Minus.eval('1'))"
   ]
  },
  {
   "cell_type": "code",
   "execution_count": 15,
   "metadata": {},
   "outputs": [
    {
     "data": {
      "text/plain": [
       "DictStateFn({'1': 1}, coeff=1.0, is_measurement=True)"
      ]
     },
     "execution_count": 15,
     "metadata": {},
     "output_type": "execute_result"
    }
   ],
   "source": [
    "One.adjoint()"
   ]
  },
  {
   "cell_type": "code",
   "execution_count": 16,
   "metadata": {},
   "outputs": [
    {
     "data": {
      "text/plain": [
       "DictStateFn({'1': 1}, coeff=1.0, is_measurement=True)"
      ]
     },
     "execution_count": 16,
     "metadata": {},
     "output_type": "execute_result"
    }
   ],
   "source": [
    "~One"
   ]
  },
  {
   "cell_type": "markdown",
   "metadata": {},
   "source": [
    "# Algebraic operations and predicates# "
   ]
  },
  {
   "cell_type": "code",
   "execution_count": 17,
   "metadata": {},
   "outputs": [
    {
     "data": {
      "text/plain": [
       "DictStateFn({'0': 1}, coeff=(2+3j), is_measurement=False)"
      ]
     },
     "execution_count": 17,
     "metadata": {},
     "output_type": "execute_result"
    }
   ],
   "source": [
    "(2.0 + 3.0j) * Zero"
   ]
  },
  {
   "cell_type": "code",
   "execution_count": 18,
   "metadata": {},
   "outputs": [
    {
     "name": "stdout",
     "output_type": "stream",
     "text": [
      "DictStateFn({'0': 1.0, '1': 1.0})\n"
     ]
    }
   ],
   "source": [
    "print(Zero + One)"
   ]
  },
  {
   "cell_type": "code",
   "execution_count": 19,
   "metadata": {},
   "outputs": [
    {
     "name": "stdout",
     "output_type": "stream",
     "text": [
      "DictStateFn({'0': 1.0, '1': 1.0}) * 0.7071067811865475\n"
     ]
    }
   ],
   "source": [
    "import math\n",
    "\n",
    "v_zero_one = (Zero + One) / math.sqrt(2)\n",
    "print(v_zero_one)"
   ]
  },
  {
   "cell_type": "code",
   "execution_count": 20,
   "metadata": {},
   "outputs": [
    {
     "name": "stdout",
     "output_type": "stream",
     "text": [
      "SummedOp([\n",
      "  CircuitStateFn(\n",
      "       ┌───┐\n",
      "  q_0: ┤ H ├\n",
      "       └───┘\n",
      "  ),\n",
      "  CircuitStateFn(\n",
      "       ┌───┐┌───┐\n",
      "  q_0: ┤ X ├┤ H ├\n",
      "       └───┘└───┘\n",
      "  )\n",
      "])\n"
     ]
    }
   ],
   "source": [
    "print(Plus + Minus)"
   ]
  },
  {
   "cell_type": "code",
   "execution_count": 21,
   "metadata": {},
   "outputs": [
    {
     "name": "stdout",
     "output_type": "stream",
     "text": [
      "ComposedOp([\n",
      "  DictMeasurement({'1': 1}),\n",
      "  DictStateFn({'1': 1})\n",
      "])\n"
     ]
    }
   ],
   "source": [
    "print(~One @ One)"
   ]
  },
  {
   "cell_type": "code",
   "execution_count": 22,
   "metadata": {},
   "outputs": [
    {
     "data": {
      "text/plain": [
       "1.0"
      ]
     },
     "execution_count": 22,
     "metadata": {},
     "output_type": "execute_result"
    }
   ],
   "source": [
    "(~One @ One).eval()"
   ]
  },
  {
   "cell_type": "code",
   "execution_count": 23,
   "metadata": {},
   "outputs": [
    {
     "data": {
      "text/plain": [
       "0.9999999999999998"
      ]
     },
     "execution_count": 23,
     "metadata": {},
     "output_type": "execute_result"
    }
   ],
   "source": [
    "(~v_zero_one @ v_zero_one).eval()"
   ]
  },
  {
   "cell_type": "code",
   "execution_count": 24,
   "metadata": {},
   "outputs": [
    {
     "data": {
      "text/plain": [
       "(-0.7071067811865476-8.7e-17j)"
      ]
     },
     "execution_count": 24,
     "metadata": {},
     "output_type": "execute_result"
    }
   ],
   "source": [
    "(~Minus @ One).eval()"
   ]
  },
  {
   "cell_type": "code",
   "execution_count": 25,
   "metadata": {},
   "outputs": [
    {
     "name": "stdout",
     "output_type": "stream",
     "text": [
      "ComposedOp([\n",
      "  DictMeasurement({'1': 1}),\n",
      "  DictStateFn({'1': 1})\n",
      "])\n"
     ]
    }
   ],
   "source": [
    "print((~One).compose(One))"
   ]
  },
  {
   "cell_type": "code",
   "execution_count": 26,
   "metadata": {},
   "outputs": [
    {
     "data": {
      "text/plain": [
       "1.0"
      ]
     },
     "execution_count": 26,
     "metadata": {},
     "output_type": "execute_result"
    }
   ],
   "source": [
    "(~One).eval(One)"
   ]
  },
  {
   "cell_type": "code",
   "execution_count": 27,
   "metadata": {},
   "outputs": [
    {
     "name": "stdout",
     "output_type": "stream",
     "text": [
      "TensoredOp([\n",
      "  DictStateFn({'0': 1}),\n",
      "  CircuitStateFn(\n",
      "       ┌───┐\n",
      "  q_0: ┤ H ├\n",
      "       └───┘\n",
      "  )\n",
      "])\n"
     ]
    }
   ],
   "source": [
    "print(Zero^Plus)"
   ]
  },
  {
   "cell_type": "code",
   "execution_count": 28,
   "metadata": {},
   "outputs": [
    {
     "name": "stdout",
     "output_type": "stream",
     "text": [
      "CircuitStateFn(\n",
      "     ┌───┐\n",
      "q_0: ┤ H ├\n",
      "     └───┘\n",
      "q_1: ─────\n",
      "          \n",
      ")\n"
     ]
    }
   ],
   "source": [
    "print((Zero^Plus).to_circuit_op())"
   ]
  },
  {
   "cell_type": "code",
   "execution_count": 29,
   "metadata": {},
   "outputs": [
    {
     "name": "stdout",
     "output_type": "stream",
     "text": [
      "DictStateFn({'11111': 1.0, '00000': 1.0}) * 600.0\n",
      "DictStateFn({'101010': 1})\n"
     ]
    }
   ],
   "source": [
    "print(600 * ((One^5) + (Zero^5)))\n",
    "print((One^Zero)^3)"
   ]
  },
  {
   "cell_type": "code",
   "execution_count": 65,
   "metadata": {},
   "outputs": [
    {
     "name": "stdout",
     "output_type": "stream",
     "text": [
      "VectorStateFn(Statevector([ 0.25-6.1e-17j, -0.25+6.1e-17j,  0.25-6.1e-17j,\n",
      "             -0.25+6.1e-17j, -0.25+6.1e-17j,  0.25-6.1e-17j,\n",
      "             -0.25+6.1e-17j,  0.25-6.1e-17j,  0.25-6.1e-17j,\n",
      "             -0.25+6.1e-17j,  0.25-6.1e-17j, -0.25+6.1e-17j,\n",
      "             -0.25+6.1e-17j,  0.25-6.1e-17j, -0.25+6.1e-17j,\n",
      "              0.25-6.1e-17j],\n",
      "            dims=(2, 2, 2, 2)))\n",
      "CircuitStateFn(\n",
      "     ┌───┐\n",
      "q_0: ┤ X ├\n",
      "     ├───┤\n",
      "q_1: ┤ H ├\n",
      "     ├───┤\n",
      "q_2: ┤ X ├\n",
      "     ├───┤\n",
      "q_3: ┤ H ├\n",
      "     └───┘\n",
      ")\n",
      "{'1111': 0.2734375, '0101': 0.25390625, '0111': 0.236328125, '1101': 0.236328125}\n"
     ]
    }
   ],
   "source": [
    "print(((Plus^Minus)^2).to_matrix_op())\n",
    "print(((Plus^One)^2).to_circuit_op())\n",
    "print(((Plus^One)^2).to_matrix_op().sample())"
   ]
  },
  {
   "cell_type": "code",
   "execution_count": 31,
   "metadata": {},
   "outputs": [
    {
     "name": "stdout",
     "output_type": "stream",
     "text": [
      "DictStateFn({'0': 1})\n",
      "True\n",
      "VectorStateFn(Statevector([0.+0.j, 1.+0.j, 1.+0.j, 0.+0.j],\n",
      "            dims=(2, 2)))\n",
      "CircuitStateFn(\n",
      "     ┌──────────┐     ┌──────────┐     ┌──────────┐     ┌──────────┐\n",
      "q_0: ┤ RY(θ[0]) ├──■──┤ RY(θ[2]) ├──■──┤ RY(θ[4]) ├──■──┤ RY(θ[6]) ├\n",
      "     ├──────────┤┌─┴─┐├──────────┤┌─┴─┐├──────────┤┌─┴─┐├──────────┤\n",
      "q_1: ┤ RY(θ[1]) ├┤ X ├┤ RY(θ[3]) ├┤ X ├┤ RY(θ[5]) ├┤ X ├┤ RY(θ[7]) ├\n",
      "     └──────────┘└───┘└──────────┘└───┘└──────────┘└───┘└──────────┘\n",
      ")\n"
     ]
    }
   ],
   "source": [
    "print(StateFn({'0':1}))\n",
    "print(StateFn({'0':1}) == Zero)\n",
    "\n",
    "print(StateFn([0,1,1,0]))\n",
    "\n",
    "from qiskit.circuit.library import RealAmplitudes\n",
    "print(StateFn(RealAmplitudes(2)))"
   ]
  },
  {
   "cell_type": "markdown",
   "metadata": {},
   "source": [
    "# Part II: PrimitiveOps"
   ]
  },
  {
   "cell_type": "code",
   "execution_count": 32,
   "metadata": {},
   "outputs": [],
   "source": [
    "from qiskit.aqua.operators import X, Y, Z, I, CX, T, H, S, PrimitiveOp"
   ]
  },
  {
   "cell_type": "markdown",
   "metadata": {},
   "source": [
    "# Matrix elements"
   ]
  },
  {
   "cell_type": "code",
   "execution_count": 33,
   "metadata": {},
   "outputs": [
    {
     "data": {
      "text/plain": [
       "PauliOp(Pauli(z=[False], x=[True]), coeff=1.0)"
      ]
     },
     "execution_count": 33,
     "metadata": {},
     "output_type": "execute_result"
    }
   ],
   "source": [
    "X"
   ]
  },
  {
   "cell_type": "code",
   "execution_count": 34,
   "metadata": {},
   "outputs": [
    {
     "name": "stdout",
     "output_type": "stream",
     "text": [
      "DictStateFn({'1': (1+0j)})\n"
     ]
    }
   ],
   "source": [
    "print(X.eval('0'))"
   ]
  },
  {
   "cell_type": "code",
   "execution_count": 35,
   "metadata": {},
   "outputs": [
    {
     "data": {
      "text/plain": [
       "(1+0j)"
      ]
     },
     "execution_count": 35,
     "metadata": {},
     "output_type": "execute_result"
    }
   ],
   "source": [
    "X.eval('0').eval('1')"
   ]
  },
  {
   "cell_type": "code",
   "execution_count": 36,
   "metadata": {},
   "outputs": [
    {
     "name": "stdout",
     "output_type": "stream",
     "text": [
      "          \n",
      "q_0: ──■──\n",
      "     ┌─┴─┐\n",
      "q_1: ┤ X ├\n",
      "     └───┘\n",
      "[[1. 0. 0. 0.]\n",
      " [0. 0. 0. 1.]\n",
      " [0. 0. 1. 0.]\n",
      " [0. 1. 0. 0.]]\n"
     ]
    }
   ],
   "source": [
    "print(CX)\n",
    "print(CX.to_matrix().real) # The imaginary part vanishes."
   ]
  },
  {
   "cell_type": "code",
   "execution_count": 37,
   "metadata": {},
   "outputs": [
    {
     "data": {
      "text/plain": [
       "VectorStateFn(Statevector([0.+0.j, 0.+0.j, 0.+0.j, 1.+0.j],\n",
       "            dims=(2, 2)), coeff=1.0, is_measurement=False)"
      ]
     },
     "execution_count": 37,
     "metadata": {},
     "output_type": "execute_result"
    }
   ],
   "source": [
    "CX.eval('01')  # 01 is the one in decimal. We get the first column."
   ]
  },
  {
   "cell_type": "code",
   "execution_count": 38,
   "metadata": {},
   "outputs": [
    {
     "data": {
      "text/plain": [
       "(1+0j)"
      ]
     },
     "execution_count": 38,
     "metadata": {},
     "output_type": "execute_result"
    }
   ],
   "source": [
    "CX.eval('01').eval('11')  # This returns element with (zero-based) index (1, 3)"
   ]
  },
  {
   "cell_type": "markdown",
   "metadata": {},
   "source": [
    "# Applying an operator to a state vector"
   ]
  },
  {
   "cell_type": "code",
   "execution_count": 39,
   "metadata": {},
   "outputs": [
    {
     "name": "stdout",
     "output_type": "stream",
     "text": [
      "ComposedOp([\n",
      "  X,\n",
      "  DictStateFn({'1': 1})\n",
      "])\n"
     ]
    }
   ],
   "source": [
    "print(X @ One)"
   ]
  },
  {
   "cell_type": "code",
   "execution_count": 40,
   "metadata": {},
   "outputs": [
    {
     "data": {
      "text/plain": [
       "DictStateFn({'0': (1+0j)}, coeff=1.0, is_measurement=False)"
      ]
     },
     "execution_count": 40,
     "metadata": {},
     "output_type": "execute_result"
    }
   ],
   "source": [
    "(X @ One).eval()"
   ]
  },
  {
   "cell_type": "code",
   "execution_count": 41,
   "metadata": {},
   "outputs": [
    {
     "data": {
      "text/plain": [
       "DictStateFn({'0': (1+0j)}, coeff=1.0, is_measurement=False)"
      ]
     },
     "execution_count": 41,
     "metadata": {},
     "output_type": "execute_result"
    }
   ],
   "source": [
    "X.eval(One)"
   ]
  },
  {
   "cell_type": "code",
   "execution_count": 42,
   "metadata": {},
   "outputs": [
    {
     "name": "stdout",
     "output_type": "stream",
     "text": [
      "          ┌───┐┌───┐     ┌───┐┌───┐\n",
      "q_0: ──■──┤ I ├┤ H ├──■──┤ I ├┤ H ├\n",
      "     ┌─┴─┐└───┘├───┤┌─┴─┐└───┘├───┤\n",
      "q_1: ┤ X ├──■──┤ H ├┤ X ├──■──┤ H ├\n",
      "     └───┘┌─┴─┐├───┤└───┘┌─┴─┐├───┤\n",
      "q_2: ──■──┤ X ├┤ H ├──■──┤ X ├┤ H ├\n",
      "     ┌─┴─┐└───┘├───┤┌─┴─┐└───┘├───┤\n",
      "q_3: ┤ X ├──■──┤ H ├┤ X ├──■──┤ H ├\n",
      "     ├───┤┌─┴─┐├───┤├───┤┌─┴─┐├───┤\n",
      "q_4: ┤ I ├┤ X ├┤ H ├┤ I ├┤ X ├┤ H ├\n",
      "     └───┘└───┘└───┘└───┘└───┘└───┘\n",
      "CircuitStateFn(\n",
      "     ┌───┐┌───┐     ┌───┐          ┌───┐     \n",
      "q_0: ┤ X ├┤ H ├──■──┤ H ├───────■──┤ H ├─────\n",
      "     ├───┤├───┤┌─┴─┐└───┘┌───┐┌─┴─┐└───┘┌───┐\n",
      "q_1: ┤ X ├┤ H ├┤ X ├──■──┤ H ├┤ X ├──■──┤ H ├\n",
      "     ├───┤├───┤└───┘┌─┴─┐├───┤└───┘┌─┴─┐├───┤\n",
      "q_2: ┤ X ├┤ H ├──■──┤ X ├┤ H ├──■──┤ X ├┤ H ├\n",
      "     ├───┤├───┤┌─┴─┐└───┘├───┤┌─┴─┐└───┘├───┤\n",
      "q_3: ┤ X ├┤ H ├┤ X ├──■──┤ H ├┤ X ├──■──┤ H ├\n",
      "     ├───┤├───┤└───┘┌─┴─┐├───┤└───┘┌─┴─┐├───┤\n",
      "q_4: ┤ X ├┤ H ├─────┤ X ├┤ H ├─────┤ X ├┤ H ├\n",
      "     └───┘└───┘     └───┘└───┘     └───┘└───┘\n",
      ")\n",
      "CircuitStateFn(\n",
      "               \n",
      "q_0: ──────────\n",
      "               \n",
      "q_1: ──────────\n",
      "     ┌───┐┌───┐\n",
      "q_2: ┤ X ├┤ H ├\n",
      "     └───┘└───┘\n",
      ")\n"
     ]
    }
   ],
   "source": [
    "# print(((~One^2) @ (CX.eval('01'))).eval())\n",
    "\n",
    "print(((H^5) @ ((CX^2)^I) @ (I^(CX^2)))**2)\n",
    "print((((H^5) @ ((CX^2)^I) @ (I^(CX^2)))**2) @ (Minus^5))\n",
    "print(((H^I^I)@(X^I^I)@Zero))"
   ]
  },
  {
   "cell_type": "code",
   "execution_count": 43,
   "metadata": {},
   "outputs": [
    {
     "name": "stdout",
     "output_type": "stream",
     "text": [
      "ComposedOp([\n",
      "  DictMeasurement({'1': 1}),\n",
      "  CircuitStateFn(\n",
      "       ┌───┐┌───┐\n",
      "  q_0: ┤ X ├┤ H ├\n",
      "       └───┘└───┘\n",
      "  )\n",
      "])\n"
     ]
    }
   ],
   "source": [
    "print(~One @ Minus)"
   ]
  },
  {
   "cell_type": "markdown",
   "metadata": {},
   "source": [
    "# Part III ListOp and subclasses"
   ]
  },
  {
   "cell_type": "markdown",
   "metadata": {},
   "source": [
    "# ListOp"
   ]
  },
  {
   "cell_type": "code",
   "execution_count": 44,
   "metadata": {},
   "outputs": [
    {
     "name": "stdout",
     "output_type": "stream",
     "text": [
      "ComposedOp([\n",
      "  ListOp([\n",
      "    DictMeasurement({'1': 1}),\n",
      "    DictMeasurement({'0': 1})\n",
      "  ]),\n",
      "  ListOp([\n",
      "    DictStateFn({'1': 1}),\n",
      "    DictStateFn({'0': 1})\n",
      "  ])\n",
      "])\n"
     ]
    }
   ],
   "source": [
    "from qiskit.aqua.operators import ListOp\n",
    "\n",
    "print((~ListOp([One, Zero]) @ ListOp([One, Zero])))"
   ]
  },
  {
   "cell_type": "code",
   "execution_count": 45,
   "metadata": {},
   "outputs": [
    {
     "name": "stdout",
     "output_type": "stream",
     "text": [
      "ListOp([\n",
      "  ListOp([\n",
      "    ComposedOp([\n",
      "      DictMeasurement({'1': 1}),\n",
      "      DictStateFn({'1': 1})\n",
      "    ]),\n",
      "    ComposedOp([\n",
      "      DictMeasurement({'1': 1}),\n",
      "      DictStateFn({'0': 1})\n",
      "    ])\n",
      "  ]),\n",
      "  ListOp([\n",
      "    ComposedOp([\n",
      "      DictMeasurement({'0': 1}),\n",
      "      DictStateFn({'1': 1})\n",
      "    ]),\n",
      "    ComposedOp([\n",
      "      DictMeasurement({'0': 1}),\n",
      "      DictStateFn({'0': 1})\n",
      "    ])\n",
      "  ])\n",
      "])\n"
     ]
    }
   ],
   "source": [
    "print((~ListOp([One, Zero]) @ ListOp([One, Zero])).reduce())"
   ]
  },
  {
   "cell_type": "code",
   "execution_count": 46,
   "metadata": {},
   "outputs": [
    {
     "name": "stdout",
     "output_type": "stream",
     "text": [
      "OperatorMeasurement(Z)\n"
     ]
    },
    {
     "data": {
      "text/plain": [
       "OperatorStateFn(PauliOp(Pauli(z=[True], x=[False]), coeff=1.0), coeff=1.0, is_measurement=True)"
      ]
     },
     "execution_count": 46,
     "metadata": {},
     "output_type": "execute_result"
    }
   ],
   "source": [
    "print(StateFn(Z).adjoint())\n",
    "StateFn(Z).adjoint()"
   ]
  },
  {
   "cell_type": "code",
   "execution_count": 47,
   "metadata": {},
   "outputs": [
    {
     "name": "stdout",
     "output_type": "stream",
     "text": [
      "(1+0j)\n",
      "(-1+0j)\n",
      "0j\n"
     ]
    }
   ],
   "source": [
    "print(StateFn(Z).adjoint().eval(Zero))\n",
    "print(StateFn(Z).adjoint().eval(One))\n",
    "print(StateFn(Z).adjoint().eval(Plus))"
   ]
  },
  {
   "cell_type": "markdown",
   "metadata": {},
   "source": [
    "# Part IV: Converters"
   ]
  },
  {
   "cell_type": "code",
   "execution_count": 48,
   "metadata": {},
   "outputs": [],
   "source": [
    "import numpy as np\n",
    "from qiskit.aqua.operators import I, X, Y, Z, H, CX, Zero, ListOp, PauliExpectation, PauliTrotterEvolution, CircuitSampler, MatrixEvolution, Suzuki\n",
    "from qiskit.circuit import Parameter\n",
    "from qiskit import BasicAer"
   ]
  },
  {
   "cell_type": "code",
   "execution_count": 49,
   "metadata": {},
   "outputs": [],
   "source": [
    "two_qubit_H2 =  (-1.0523732 * I^I) + \\\n",
    "                (0.39793742 * I^Z) + \\\n",
    "                (-0.3979374 * Z^I) + \\\n",
    "                (-0.0112801 * Z^Z) + \\\n",
    "                (0.18093119 * X^X)"
   ]
  },
  {
   "cell_type": "code",
   "execution_count": 50,
   "metadata": {},
   "outputs": [
    {
     "name": "stdout",
     "output_type": "stream",
     "text": [
      "SummedOp([\n",
      "  -1.0523732 * II,\n",
      "  0.39793742 * IZ,\n",
      "  -0.3979374 * ZI,\n",
      "  -0.0112801 * ZZ,\n",
      "  0.18093119 * XX\n",
      "])\n"
     ]
    }
   ],
   "source": [
    "print(two_qubit_H2)"
   ]
  },
  {
   "cell_type": "code",
   "execution_count": 51,
   "metadata": {},
   "outputs": [
    {
     "name": "stdout",
     "output_type": "stream",
     "text": [
      "e^(-i*1.0*θ * SummedOp([\n",
      "  -1.0523732 * II,\n",
      "  0.39793742 * IZ,\n",
      "  -0.3979374 * ZI,\n",
      "  -0.0112801 * ZZ,\n",
      "  0.18093119 * XX\n",
      "]))\n",
      "EvolvedOp(SummedOp([PauliOp(Pauli(z=[False, False], x=[False, False]), coeff=-1.0523732), PauliOp(Pauli(z=[True, False], x=[False, False]), coeff=0.39793742), PauliOp(Pauli(z=[False, True], x=[False, False]), coeff=-0.3979374), PauliOp(Pauli(z=[True, True], x=[False, False]), coeff=-0.0112801), PauliOp(Pauli(z=[False, False], x=[True, True]), coeff=0.18093119)], coeff=1.0*θ, abelian=False), coeff=1.0)\n"
     ]
    }
   ],
   "source": [
    "evo_time = Parameter('θ')\n",
    "evolution_op = (evo_time*two_qubit_H2).exp_i()\n",
    "print(evolution_op) # Note, EvolvedOps print as exponentiations\n",
    "print(repr(evolution_op))"
   ]
  },
  {
   "cell_type": "code",
   "execution_count": 52,
   "metadata": {},
   "outputs": [
    {
     "name": "stdout",
     "output_type": "stream",
     "text": [
      "OperatorMeasurement(SummedOp([\n",
      "  -1.0523732 * II,\n",
      "  0.39793742 * IZ,\n",
      "  -0.3979374 * ZI,\n",
      "  -0.0112801 * ZZ,\n",
      "  0.18093119 * XX\n",
      "]))\n"
     ]
    }
   ],
   "source": [
    "h2_measurement = StateFn(two_qubit_H2).adjoint()\n",
    "print(h2_measurement)"
   ]
  },
  {
   "cell_type": "code",
   "execution_count": 53,
   "metadata": {},
   "outputs": [
    {
     "name": "stdout",
     "output_type": "stream",
     "text": [
      "CircuitStateFn(\n",
      "     ┌───┐     \n",
      "q_0: ┤ H ├──■──\n",
      "     └───┘┌─┴─┐\n",
      "q_1: ─────┤ X ├\n",
      "          └───┘\n",
      ")\n"
     ]
    }
   ],
   "source": [
    "bell = CX @ (I ^ H) @ Zero\n",
    "print(bell)"
   ]
  },
  {
   "cell_type": "code",
   "execution_count": 54,
   "metadata": {},
   "outputs": [
    {
     "name": "stdout",
     "output_type": "stream",
     "text": [
      "ComposedOp([\n",
      "  OperatorMeasurement(SummedOp([\n",
      "    -1.0523732 * II,\n",
      "    0.39793742 * IZ,\n",
      "    -0.3979374 * ZI,\n",
      "    -0.0112801 * ZZ,\n",
      "    0.18093119 * XX\n",
      "  ])),\n",
      "  e^(-i*1.0*θ * SummedOp([\n",
      "    -1.0523732 * II,\n",
      "    0.39793742 * IZ,\n",
      "    -0.3979374 * ZI,\n",
      "    -0.0112801 * ZZ,\n",
      "    0.18093119 * XX\n",
      "  ])),\n",
      "  CircuitStateFn(\n",
      "       ┌───┐     \n",
      "  q_0: ┤ H ├──■──\n",
      "       └───┘┌─┴─┐\n",
      "  q_1: ─────┤ X ├\n",
      "            └───┘\n",
      "  )\n",
      "])\n"
     ]
    }
   ],
   "source": [
    "evo_and_meas = h2_measurement @ evolution_op @ bell\n",
    "print(evo_and_meas)"
   ]
  },
  {
   "cell_type": "code",
   "execution_count": 55,
   "metadata": {},
   "outputs": [
    {
     "name": "stdout",
     "output_type": "stream",
     "text": [
      "ComposedOp([\n",
      "  OperatorMeasurement(SummedOp([\n",
      "    -1.0523732 * II,\n",
      "    0.39793742 * IZ,\n",
      "    -0.3979374 * ZI,\n",
      "    -0.0112801 * ZZ,\n",
      "    0.18093119 * XX\n",
      "  ])),\n",
      "  CircuitStateFn(\n",
      "  global phase: 1.0524\n",
      "       ┌───┐     ┌───┐┌───┐┌──────────────────┐┌───┐┌───┐┌───┐»\n",
      "  q_0: ┤ H ├──■──┤ H ├┤ X ├┤ RZ(0.18093119*θ) ├┤ X ├┤ H ├┤ X ├»\n",
      "       └───┘┌─┴─┐├───┤└─┬─┘└──────────────────┘└─┬─┘├───┤└─┬─┘»\n",
      "  q_1: ─────┤ X ├┤ H ├──■────────────────────────■──┤ H ├──■──»\n",
      "            └───┘└───┘                              └───┘     »\n",
      "  «     ┌──────────────────┐┌───┐┌──────────────────┐┌──────────────────┐┌───┐»\n",
      "  «q_0: ┤ RZ(-0.0112801*θ) ├┤ X ├┤ RZ(0.39793742*θ) ├┤ RZ(0.39793742*θ) ├┤ X ├»\n",
      "  «     └──────────────────┘└─┬─┘├──────────────────┤├──────────────────┤└─┬─┘»\n",
      "  «q_1: ──────────────────────■──┤ RZ(-0.3979374*θ) ├┤ RZ(-0.3979374*θ) ├──■──»\n",
      "  «                              └──────────────────┘└──────────────────┘     »\n",
      "  «     ┌──────────────────┐┌───┐┌───┐┌───┐┌──────────────────┐┌───┐┌───┐\n",
      "  «q_0: ┤ RZ(-0.0112801*θ) ├┤ X ├┤ H ├┤ X ├┤ RZ(0.18093119*θ) ├┤ X ├┤ H ├\n",
      "  «     └──────────────────┘└─┬─┘├───┤└─┬─┘└──────────────────┘└─┬─┘├───┤\n",
      "  «q_1: ──────────────────────■──┤ H ├──■────────────────────────■──┤ H ├\n",
      "  «                              └───┘                              └───┘\n",
      "  )\n",
      "])\n"
     ]
    }
   ],
   "source": [
    "trotterized_op = PauliTrotterEvolution(trotter_mode=Suzuki(order=2, reps=1)).convert(evo_and_meas)\n",
    "# We can also set trotter_mode='suzuki' or leave it empty to default to first order Trotterization.\n",
    "print(trotterized_op)"
   ]
  },
  {
   "cell_type": "code",
   "execution_count": 56,
   "metadata": {},
   "outputs": [],
   "source": [
    "bound = trotterized_op.bind_parameters({evo_time: .5})"
   ]
  },
  {
   "cell_type": "code",
   "execution_count": 57,
   "metadata": {},
   "outputs": [
    {
     "data": {
      "text/html": [
       "<pre style=\"word-wrap: normal;white-space: pre;background: #fff0;line-height: 1.1;font-family: &quot;Courier New&quot;,Courier,monospace\">global phase: 1.0524\n",
       "     ┌───┐     ┌───┐┌───┐┌────────────────────────┐┌───┐┌───┐┌───┐»\n",
       "q_0: ┤ H ├──■──┤ H ├┤ X ├┤ RZ(0.0904655950000000) ├┤ X ├┤ H ├┤ X ├»\n",
       "     └───┘┌─┴─┐├───┤└─┬─┘└────────────────────────┘└─┬─┘├───┤└─┬─┘»\n",
       "q_1: ─────┤ X ├┤ H ├──■──────────────────────────────■──┤ H ├──■──»\n",
       "          └───┘└───┘                                    └───┘     »\n",
       "«     ┌──────────────────────────┐┌───┐┌───────────────────────┐ »\n",
       "«q_0: ┤ RZ(-0.00564005000000000) ├┤ X ├┤ RZ(0.198968710000000) ├─»\n",
       "«     └──────────────────────────┘└─┬─┘├───────────────────────┴┐»\n",
       "«q_1: ──────────────────────────────■──┤ RZ(-0.198968700000000) ├»\n",
       "«                                      └────────────────────────┘»\n",
       "«     ┌───────────────────────┐ ┌───┐┌──────────────────────────┐┌───┐┌───┐»\n",
       "«q_0: ┤ RZ(0.198968710000000) ├─┤ X ├┤ RZ(-0.00564005000000000) ├┤ X ├┤ H ├»\n",
       "«     ├───────────────────────┴┐└─┬─┘└──────────────────────────┘└─┬─┘├───┤»\n",
       "«q_1: ┤ RZ(-0.198968700000000) ├──■────────────────────────────────■──┤ H ├»\n",
       "«     └────────────────────────┘                                      └───┘»\n",
       "«     ┌───┐┌────────────────────────┐┌───┐┌───┐\n",
       "«q_0: ┤ X ├┤ RZ(0.0904655950000000) ├┤ X ├┤ H ├\n",
       "«     └─┬─┘└────────────────────────┘└─┬─┘├───┤\n",
       "«q_1: ──■──────────────────────────────■──┤ H ├\n",
       "«                                         └───┘</pre>"
      ],
      "text/plain": [
       "global phase: 1.0524\n",
       "     ┌───┐     ┌───┐┌───┐┌────────────────────────┐┌───┐┌───┐┌───┐»\n",
       "q_0: ┤ H ├──■──┤ H ├┤ X ├┤ RZ(0.0904655950000000) ├┤ X ├┤ H ├┤ X ├»\n",
       "     └───┘┌─┴─┐├───┤└─┬─┘└────────────────────────┘└─┬─┘├───┤└─┬─┘»\n",
       "q_1: ─────┤ X ├┤ H ├──■──────────────────────────────■──┤ H ├──■──»\n",
       "          └───┘└───┘                                    └───┘     »\n",
       "«     ┌──────────────────────────┐┌───┐┌───────────────────────┐ »\n",
       "«q_0: ┤ RZ(-0.00564005000000000) ├┤ X ├┤ RZ(0.198968710000000) ├─»\n",
       "«     └──────────────────────────┘└─┬─┘├───────────────────────┴┐»\n",
       "«q_1: ──────────────────────────────■──┤ RZ(-0.198968700000000) ├»\n",
       "«                                      └────────────────────────┘»\n",
       "«     ┌───────────────────────┐ ┌───┐┌──────────────────────────┐┌───┐┌───┐»\n",
       "«q_0: ┤ RZ(0.198968710000000) ├─┤ X ├┤ RZ(-0.00564005000000000) ├┤ X ├┤ H ├»\n",
       "«     ├───────────────────────┴┐└─┬─┘└──────────────────────────┘└─┬─┘├───┤»\n",
       "«q_1: ┤ RZ(-0.198968700000000) ├──■────────────────────────────────■──┤ H ├»\n",
       "«     └────────────────────────┘                                      └───┘»\n",
       "«     ┌───┐┌────────────────────────┐┌───┐┌───┐\n",
       "«q_0: ┤ X ├┤ RZ(0.0904655950000000) ├┤ X ├┤ H ├\n",
       "«     └─┬─┘└────────────────────────┘└─┬─┘├───┤\n",
       "«q_1: ──■──────────────────────────────■──┤ H ├\n",
       "«                                         └───┘"
      ]
     },
     "execution_count": 57,
     "metadata": {},
     "output_type": "execute_result"
    }
   ],
   "source": [
    "bound[1].to_circuit().draw()"
   ]
  },
  {
   "cell_type": "code",
   "execution_count": 58,
   "metadata": {},
   "outputs": [
    {
     "name": "stdout",
     "output_type": "stream",
     "text": [
      "SummedOp([\n",
      "  ComposedOp([\n",
      "    OperatorMeasurement(-1.0523732 * II),\n",
      "    II\n",
      "  ]),\n",
      "  ComposedOp([\n",
      "    OperatorMeasurement(0.39793742 * IZ),\n",
      "    II\n",
      "  ]),\n",
      "  ComposedOp([\n",
      "    OperatorMeasurement(-0.3979374 * ZI),\n",
      "    II\n",
      "  ]),\n",
      "  ComposedOp([\n",
      "    OperatorMeasurement(-0.0112801 * ZZ),\n",
      "    II\n",
      "  ]),\n",
      "  ComposedOp([\n",
      "    OperatorMeasurement(0.18093119 * ZZ),\n",
      "         ┌───┐\n",
      "    q_0: ┤ H ├\n",
      "         ├───┤\n",
      "    q_1: ┤ H ├\n",
      "         └───┘\n",
      "  ])\n",
      "])\n"
     ]
    }
   ],
   "source": [
    "# Note that XX was the only non-diagonal measurement in our H2 Observable\n",
    "print(PauliExpectation(group_paulis=False).convert(h2_measurement))"
   ]
  },
  {
   "cell_type": "code",
   "execution_count": 59,
   "metadata": {},
   "outputs": [
    {
     "name": "stdout",
     "output_type": "stream",
     "text": [
      "SummedOp([\n",
      "  ComposedOp([\n",
      "    OperatorMeasurement(AbelianSummedOp([\n",
      "      -1.0523732 * II,\n",
      "      0.18093119 * ZZ\n",
      "    ])),\n",
      "         ┌───┐\n",
      "    q_0: ┤ H ├\n",
      "         ├───┤\n",
      "    q_1: ┤ H ├\n",
      "         └───┘\n",
      "  ]),\n",
      "  ComposedOp([\n",
      "    OperatorMeasurement(AbelianSummedOp([\n",
      "      0.39793742 * IZ,\n",
      "      -0.3979374 * ZI,\n",
      "      -0.0112801 * ZZ\n",
      "    ])),\n",
      "    II\n",
      "  ])\n",
      "])\n"
     ]
    }
   ],
   "source": [
    "print(PauliExpectation().convert(h2_measurement))"
   ]
  },
  {
   "cell_type": "code",
   "execution_count": 60,
   "metadata": {},
   "outputs": [
    {
     "name": "stdout",
     "output_type": "stream",
     "text": [
      "SummedOp([\n",
      "  ComposedOp([\n",
      "    OperatorMeasurement(AbelianSummedOp([\n",
      "      -1.0523732 * II,\n",
      "      0.18093119 * ZZ\n",
      "    ])),\n",
      "    CircuitStateFn(\n",
      "    global phase: 1.0524\n",
      "         ┌───┐     ┌───┐┌───┐┌──────────────────┐┌───┐┌───┐┌───┐»\n",
      "    q_0: ┤ H ├──■──┤ H ├┤ X ├┤ RZ(0.18093119*θ) ├┤ X ├┤ H ├┤ X ├»\n",
      "         └───┘┌─┴─┐├───┤└─┬─┘└──────────────────┘└─┬─┘├───┤└─┬─┘»\n",
      "    q_1: ─────┤ X ├┤ H ├──■────────────────────────■──┤ H ├──■──»\n",
      "              └───┘└───┘                              └───┘     »\n",
      "    «     ┌──────────────────┐┌───┐┌──────────────────┐┌──────────────────┐┌───┐»\n",
      "    «q_0: ┤ RZ(-0.0112801*θ) ├┤ X ├┤ RZ(0.39793742*θ) ├┤ RZ(0.39793742*θ) ├┤ X ├»\n",
      "    «     └──────────────────┘└─┬─┘├──────────────────┤├──────────────────┤└─┬─┘»\n",
      "    «q_1: ──────────────────────■──┤ RZ(-0.3979374*θ) ├┤ RZ(-0.3979374*θ) ├──■──»\n",
      "    «                              └──────────────────┘└──────────────────┘     »\n",
      "    «     ┌──────────────────┐┌───┐┌───┐┌───┐┌──────────────────┐┌───┐┌───┐┌───┐\n",
      "    «q_0: ┤ RZ(-0.0112801*θ) ├┤ X ├┤ H ├┤ X ├┤ RZ(0.18093119*θ) ├┤ X ├┤ H ├┤ H ├\n",
      "    «     └──────────────────┘└─┬─┘├───┤└─┬─┘└──────────────────┘└─┬─┘├───┤├───┤\n",
      "    «q_1: ──────────────────────■──┤ H ├──■────────────────────────■──┤ H ├┤ H ├\n",
      "    «                              └───┘                              └───┘└───┘\n",
      "    )\n",
      "  ]),\n",
      "  ComposedOp([\n",
      "    OperatorMeasurement(AbelianSummedOp([\n",
      "      0.39793742 * IZ,\n",
      "      -0.3979374 * ZI,\n",
      "      -0.0112801 * ZZ\n",
      "    ])),\n",
      "    CircuitStateFn(\n",
      "    global phase: 1.0524\n",
      "         ┌───┐     ┌───┐┌───┐┌──────────────────┐┌───┐┌───┐┌───┐»\n",
      "    q_0: ┤ H ├──■──┤ H ├┤ X ├┤ RZ(0.18093119*θ) ├┤ X ├┤ H ├┤ X ├»\n",
      "         └───┘┌─┴─┐├───┤└─┬─┘└──────────────────┘└─┬─┘├───┤└─┬─┘»\n",
      "    q_1: ─────┤ X ├┤ H ├──■────────────────────────■──┤ H ├──■──»\n",
      "              └───┘└───┘                              └───┘     »\n",
      "    «     ┌──────────────────┐┌───┐┌──────────────────┐┌──────────────────┐┌───┐»\n",
      "    «q_0: ┤ RZ(-0.0112801*θ) ├┤ X ├┤ RZ(0.39793742*θ) ├┤ RZ(0.39793742*θ) ├┤ X ├»\n",
      "    «     └──────────────────┘└─┬─┘├──────────────────┤├──────────────────┤└─┬─┘»\n",
      "    «q_1: ──────────────────────■──┤ RZ(-0.3979374*θ) ├┤ RZ(-0.3979374*θ) ├──■──»\n",
      "    «                              └──────────────────┘└──────────────────┘     »\n",
      "    «     ┌──────────────────┐┌───┐┌───┐┌───┐┌──────────────────┐┌───┐┌───┐\n",
      "    «q_0: ┤ RZ(-0.0112801*θ) ├┤ X ├┤ H ├┤ X ├┤ RZ(0.18093119*θ) ├┤ X ├┤ H ├\n",
      "    «     └──────────────────┘└─┬─┘├───┤└─┬─┘└──────────────────┘└─┬─┘├───┤\n",
      "    «q_1: ──────────────────────■──┤ H ├──■────────────────────────■──┤ H ├\n",
      "    «                              └───┘                              └───┘\n",
      "    )\n",
      "  ])\n",
      "])\n"
     ]
    }
   ],
   "source": [
    "diagonalized_meas_op = PauliExpectation().convert(trotterized_op)\n",
    "print(diagonalized_meas_op)"
   ]
  },
  {
   "cell_type": "code",
   "execution_count": 61,
   "metadata": {},
   "outputs": [],
   "source": [
    "evo_time_points = list(range(8))\n",
    "h2_trotter_expectations = diagonalized_meas_op.bind_parameters({evo_time: evo_time_points})"
   ]
  },
  {
   "cell_type": "code",
   "execution_count": 62,
   "metadata": {},
   "outputs": [
    {
     "data": {
      "text/plain": [
       "array([-0.88272211-1.111e-15j, -0.88272211-1.102e-15j,\n",
       "       -0.88272211-1.153e-15j, -0.88272211-1.169e-15j,\n",
       "       -0.88272211-1.109e-15j, -0.88272211-1.021e-15j,\n",
       "       -0.88272211-1.073e-15j, -0.88272211-1.182e-15j])"
      ]
     },
     "execution_count": 62,
     "metadata": {},
     "output_type": "execute_result"
    }
   ],
   "source": [
    "h2_trotter_expectations.eval()"
   ]
  },
  {
   "cell_type": "code",
   "execution_count": 63,
   "metadata": {},
   "outputs": [
    {
     "name": "stdout",
     "output_type": "stream",
     "text": [
      "Sampled Trotterized energies:\n",
      " [-0.88272211 -0.88272211 -0.88272211 -0.88272211 -0.88272211 -0.88272211\n",
      " -0.88272211 -0.88272211]\n"
     ]
    }
   ],
   "source": [
    "sampler = CircuitSampler(backend=BasicAer.get_backend('qasm_simulator'))\n",
    "# sampler.quantum_instance.run_config.shots = 1000\n",
    "sampled_trotter_exp_op = sampler.convert(h2_trotter_expectations)\n",
    "sampled_trotter_energies = sampled_trotter_exp_op.eval()\n",
    "print('Sampled Trotterized energies:\\n {}'.format(np.real(sampled_trotter_energies)))"
   ]
  },
  {
   "cell_type": "code",
   "execution_count": 64,
   "metadata": {},
   "outputs": [
    {
     "name": "stdout",
     "output_type": "stream",
     "text": [
      "Before:\n",
      "\n",
      "ComposedOp([\n",
      "  OperatorMeasurement(AbelianSummedOp([\n",
      "    -1.0523732 * II,\n",
      "    0.18093119 * ZZ\n",
      "  ])),\n",
      "  CircuitStateFn(\n",
      "  global phase: 1.0524\n",
      "       ┌───┐     ┌───┐┌───┐┌───────┐┌───┐┌───┐┌───┐┌───────┐┌───┐┌───────┐»\n",
      "  q_0: ┤ H ├──■──┤ H ├┤ X ├┤ RZ(0) ├┤ X ├┤ H ├┤ X ├┤ RZ(0) ├┤ X ├┤ RZ(0) ├»\n",
      "       └───┘┌─┴─┐├───┤└─┬─┘└───────┘└─┬─┘├───┤└─┬─┘└───────┘└─┬─┘├───────┤»\n",
      "  q_1: ─────┤ X ├┤ H ├──■─────────────■──┤ H ├──■─────────────■──┤ RZ(0) ├»\n",
      "            └───┘└───┘                   └───┘                   └───────┘»\n",
      "  «     ┌───────┐┌───┐┌───────┐┌───┐┌───┐┌───┐┌───────┐┌───┐┌───┐┌───┐\n",
      "  «q_0: ┤ RZ(0) ├┤ X ├┤ RZ(0) ├┤ X ├┤ H ├┤ X ├┤ RZ(0) ├┤ X ├┤ H ├┤ H ├\n",
      "  «     ├───────┤└─┬─┘└───────┘└─┬─┘├───┤└─┬─┘└───────┘└─┬─┘├───┤├───┤\n",
      "  «q_1: ┤ RZ(0) ├──■─────────────■──┤ H ├──■─────────────■──┤ H ├┤ H ├\n",
      "  «     └───────┘                   └───┘                   └───┘└───┘\n",
      "  )\n",
      "])\n",
      "\n",
      "After:\n",
      "\n",
      "ComposedOp([\n",
      "  OperatorMeasurement(AbelianSummedOp([\n",
      "    -1.0523732 * II,\n",
      "    0.18093119 * ZZ\n",
      "  ])),\n",
      "  DictStateFn({'00': 0.6959705453537527, '11': 0.7180703308172536})\n",
      "])\n"
     ]
    }
   ],
   "source": [
    "print('Before:\\n')\n",
    "print(h2_trotter_expectations.reduce()[0][0])\n",
    "print('\\nAfter:\\n')\n",
    "print(sampled_trotter_exp_op[0][0])"
   ]
  },
  {
   "cell_type": "code",
   "execution_count": null,
   "metadata": {},
   "outputs": [],
   "source": []
  }
 ],
 "metadata": {
  "kernelspec": {
   "display_name": "Python 3",
   "language": "python",
   "name": "python3"
  },
  "language_info": {
   "codemirror_mode": {
    "name": "ipython",
    "version": 3
   },
   "file_extension": ".py",
   "mimetype": "text/x-python",
   "name": "python",
   "nbconvert_exporter": "python",
   "pygments_lexer": "ipython3",
   "version": "3.7.1"
  }
 },
 "nbformat": 4,
 "nbformat_minor": 2
}
