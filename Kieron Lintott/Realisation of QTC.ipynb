{
 "cells": [
  {
   "cell_type": "markdown",
   "id": "ordered-rogers",
   "metadata": {},
   "source": [
    "## QTC realisation in Qiskit\n",
    "\n",
    "This is the code file where I try to make the quantum circuit representing a time crystal in Qiskit. I started by looking at a simpler circuit and building from that."
   ]
  },
  {
   "cell_type": "code",
   "execution_count": 2,
   "id": "expensive-underwear",
   "metadata": {},
   "outputs": [
    {
     "data": {
      "text/html": [
       "<pre style=\"word-wrap: normal;white-space: pre;background: #fff0;line-height: 1.1;font-family: &quot;Courier New&quot;,Courier,monospace\">     ┌───┐ ░            ░       \n",
       "q_0: ┤ X ├─░───■────────░───────\n",
       "     ├───┤ ░   │        ░       \n",
       "q_1: ┤ X ├─░───┼────■───░───────\n",
       "     └───┘ ░ ┌─┴─┐┌─┴─┐ ░ ┌─┐   \n",
       "q_2: ──────░─┤ X ├┤ X ├─░─┤M├───\n",
       "           ░ └───┘└───┘ ░ └╥┘┌─┐\n",
       "q_3: ──────░────────────░──╫─┤M├\n",
       "           ░            ░  ║ └╥┘\n",
       "c: 2/══════════════════════╩══╩═\n",
       "                           0  1 </pre>"
      ],
      "text/plain": [
       "     ┌───┐ ░            ░       \n",
       "q_0: ┤ X ├─░───■────────░───────\n",
       "     ├───┤ ░   │        ░       \n",
       "q_1: ┤ X ├─░───┼────■───░───────\n",
       "     └───┘ ░ ┌─┴─┐┌─┴─┐ ░ ┌─┐   \n",
       "q_2: ──────░─┤ X ├┤ X ├─░─┤M├───\n",
       "           ░ └───┘└───┘ ░ └╥┘┌─┐\n",
       "q_3: ──────░────────────░──╫─┤M├\n",
       "           ░            ░  ║ └╥┘\n",
       "c: 2/══════════════════════╩══╩═\n",
       "                           0  1 "
      ]
     },
     "execution_count": 2,
     "metadata": {},
     "output_type": "execute_result"
    }
   ],
   "source": [
    "from qiskit import QuantumCircuit, execute, Aer\n",
    "from qiskit.visualization import plot_histogram\n",
    "\n",
    "qc_ha = QuantumCircuit(4,2)\n",
    "# encode inputs in qubits 0 and 1\n",
    "qc_ha.x(0) # For a=0, remove this line. For a=1, leave it.\n",
    "qc_ha.x(1) # For b=0, remove this line. For b=1, leave it.\n",
    "qc_ha.barrier()\n",
    "# use cnots to write the XOR of the inputs on qubit 2\n",
    "qc_ha.cx(0,2)\n",
    "qc_ha.cx(1,2)\n",
    "qc_ha.barrier()\n",
    "# extract outputs\n",
    "qc_ha.measure(2,0) # extract XOR value\n",
    "qc_ha.measure(3,1)\n",
    "\n",
    "qc_ha.draw()"
   ]
  },
  {
   "cell_type": "code",
   "execution_count": 3,
   "id": "illegal-founder",
   "metadata": {},
   "outputs": [
    {
     "data": {
      "image/png": "[encoded data removed]",
      "text/plain": [
       "<Figure size 504x360 with 1 Axes>"
      ]
     },
     "execution_count": 3,
     "metadata": {},
     "output_type": "execute_result"
    }
   ],
   "source": [
    "# Run these two also if the first cell hasn't been run!\n",
    "from qiskit import QuantumCircuit, execute, Aer\n",
    "import scipy\n",
    "from scipy import pi as pi\n",
    "from qiskit.visualization import plot_histogram\n",
    "\n",
    "# print(pi) # Test to ensure pi is imported - it was.\n",
    "\n",
    "# Create the circuit of 3 qubits\n",
    "qtc = QuantumCircuit(3)\n",
    "backend = Aer.get_backend('statevector_simulator')\n",
    "qtc.initialize([1,0], 0)\n",
    "qtc.initialize([1,0], 1)\n",
    "qtc.initialize([1,0], 2)\n",
    "\n",
    "# Parameter for how many cycles you want to run and an empty list for storing state data.\n",
    "L = 8\n",
    "statedata = []\n",
    "histogram = []\n",
    "for i in range(L):    \n",
    "    qtc.x(0)\n",
    "    qtc.x(1)\n",
    "    qtc.x(2)\n",
    "    qtc.crz(pi/2, 0, 1)\n",
    "    qtc.crz(pi/2, 1, 2)\n",
    "    # Put some measuring parameter here and add to a list\n",
    "    state = execute(qtc, backend).result().get_statevector()\n",
    "    # print(\"Quibits state is = \", state)\n",
    "    statedata.append(state)\n",
    "    results = execute(qtc,backend).result().get_counts()\n",
    "    histogram.append(results)\n",
    "    #counts = state.get_counts()\n",
    "    #print(state)\n",
    "    qtc.barrier()\n",
    "#qtc.draw()\n",
    "    \n",
    "# print(statedata)\n",
    "#print(histogram)\n",
    "\n",
    "\n",
    "plot_histogram(histogram)"
   ]
  },
  {
   "cell_type": "markdown",
   "id": "hourly-least",
   "metadata": {},
   "source": [
    "From this, I've obtained the data simulating the time crystal, now I plan to take the data and plot the magnetisation.\n",
    "\n",
    "With a running model, I've used the outputs to generate the desired graph (although it's idealised, as it's being run on an ideal backend rather than a real quantum backend with noise). "
   ]
  },
  {
   "cell_type": "code",
   "execution_count": 67,
   "id": "going-passage",
   "metadata": {},
   "outputs": [
    {
     "name": "stdout",
     "output_type": "stream",
     "text": [
      "[0, 1, 1, 2, 2, 3, 3, 4, 4, 5, 5, 6, 6, 7, 7, 8] [-1, -1, 1, 1, -1, -1, 1, 1, -1, -1, 1, 1, -1, -1, 1, 1]\n",
      "000\n"
     ]
    },
    {
     "data": {
      "image/png": "[encoded data removed]",
      "text/plain": [
       "<Figure size 432x288 with 1 Axes>"
      ]
     },
     "metadata": {
      "needs_background": "light"
     },
     "output_type": "display_data"
    }
   ],
   "source": [
    "mag = []; T = []\n",
    "for i in range(len(histogram)):\n",
    "    if '000' in histogram[i]:\n",
    "        mag.append(1)\n",
    "        mag.append(1)\n",
    "    elif '111' in histogram[i]:\n",
    "        mag.append(-1)\n",
    "        mag.append(-1)\n",
    "    else: break\n",
    "    T.append(i)\n",
    "    T.append(i+1)\n",
    "print(T, mag)\n",
    "\n",
    "import matplotlib.pyplot as plt\n",
    "fig = plt.figure()\n",
    "ax = plt.axes()\n",
    "\n",
    "ax.plot(T, mag)\n",
    "\n",
    "print(str(3*'0')) # Can use this form in the conditions above with q substituted for 3"
   ]
  },
  {
   "cell_type": "code",
   "execution_count": 2,
   "id": "future-evidence",
   "metadata": {
    "scrolled": true
   },
   "outputs": [
    {
     "data": {
      "text/html": [
       "<pre style=\"word-wrap: normal;white-space: pre;background: #fff0;line-height: 1.1;font-family: &quot;Courier New&quot;,Courier,monospace\">     ┌─────────────────┐┌───┐                       ░ ┌───┐           »\n",
       "q_0: ┤ initialize(1,0) ├┤ X ├─────■─────────────────░─┤ X ├─────■─────»\n",
       "     ├─────────────────┤├───┤┌────┴────┐            ░ ├───┤┌────┴────┐»\n",
       "q_1: ┤ initialize(1,0) ├┤ X ├┤ RZ(π/2) ├─────■──────░─┤ X ├┤ RZ(π/2) ├»\n",
       "     ├─────────────────┤├───┤└─────────┘┌────┴────┐ ░ ├───┤└─────────┘»\n",
       "q_2: ┤ initialize(1,0) ├┤ X ├───────────┤ RZ(π/2) ├─░─┤ X ├───────────»\n",
       "     └─────────────────┘└───┘           └─────────┘ ░ └───┘           »\n",
       "«                 ░ ┌───┐                       ░ ┌───┐                      »\n",
       "«q_0: ────────────░─┤ X ├─────■─────────────────░─┤ X ├─────■────────────────»\n",
       "«                 ░ ├───┤┌────┴────┐            ░ ├───┤┌────┴────┐           »\n",
       "«q_1: ─────■──────░─┤ X ├┤ RZ(π/2) ├─────■──────░─┤ X ├┤ RZ(π/2) ├─────■─────»\n",
       "«     ┌────┴────┐ ░ ├───┤└─────────┘┌────┴────┐ ░ ├───┤└─────────┘┌────┴────┐»\n",
       "«q_2: ┤ RZ(π/2) ├─░─┤ X ├───────────┤ RZ(π/2) ├─░─┤ X ├───────────┤ RZ(π/2) ├»\n",
       "«     └─────────┘ ░ └───┘           └─────────┘ ░ └───┘           └─────────┘»\n",
       "«      ░ ┌───┐                       ░ ┌───┐                       ░ ┌───┐»\n",
       "«q_0: ─░─┤ X ├─────■─────────────────░─┤ X ├─────■─────────────────░─┤ X ├»\n",
       "«      ░ ├───┤┌────┴────┐            ░ ├───┤┌────┴────┐            ░ ├───┤»\n",
       "«q_1: ─░─┤ X ├┤ RZ(π/2) ├─────■──────░─┤ X ├┤ RZ(π/2) ├─────■──────░─┤ X ├»\n",
       "«      ░ ├───┤└─────────┘┌────┴────┐ ░ ├───┤└─────────┘┌────┴────┐ ░ ├───┤»\n",
       "«q_2: ─░─┤ X ├───────────┤ RZ(π/2) ├─░─┤ X ├───────────┤ RZ(π/2) ├─░─┤ X ├»\n",
       "«      ░ └───┘           └─────────┘ ░ └───┘           └─────────┘ ░ └───┘»\n",
       "«                            ░ ┌───┐                       ░ \n",
       "«q_0: ─────■─────────────────░─┤ X ├─────■─────────────────░─\n",
       "«     ┌────┴────┐            ░ ├───┤┌────┴────┐            ░ \n",
       "«q_1: ┤ RZ(π/2) ├─────■──────░─┤ X ├┤ RZ(π/2) ├─────■──────░─\n",
       "«     └─────────┘┌────┴────┐ ░ ├───┤└─────────┘┌────┴────┐ ░ \n",
       "«q_2: ───────────┤ RZ(π/2) ├─░─┤ X ├───────────┤ RZ(π/2) ├─░─\n",
       "«                └─────────┘ ░ └───┘           └─────────┘ ░ </pre>"
      ],
      "text/plain": [
       "     ┌─────────────────┐┌───┐                       ░ ┌───┐           »\n",
       "q_0: ┤ initialize(1,0) ├┤ X ├─────■─────────────────░─┤ X ├─────■─────»\n",
       "     ├─────────────────┤├───┤┌────┴────┐            ░ ├───┤┌────┴────┐»\n",
       "q_1: ┤ initialize(1,0) ├┤ X ├┤ RZ(π/2) ├─────■──────░─┤ X ├┤ RZ(π/2) ├»\n",
       "     ├─────────────────┤├───┤└─────────┘┌────┴────┐ ░ ├───┤└─────────┘»\n",
       "q_2: ┤ initialize(1,0) ├┤ X ├───────────┤ RZ(π/2) ├─░─┤ X ├───────────»\n",
       "     └─────────────────┘└───┘           └─────────┘ ░ └───┘           »\n",
       "«                 ░ ┌───┐                       ░ ┌───┐                      »\n",
       "«q_0: ────────────░─┤ X ├─────■─────────────────░─┤ X ├─────■────────────────»\n",
       "«                 ░ ├───┤┌────┴────┐            ░ ├───┤┌────┴────┐           »\n",
       "«q_1: ─────■──────░─┤ X ├┤ RZ(π/2) ├─────■──────░─┤ X ├┤ RZ(π/2) ├─────■─────»\n",
       "«     ┌────┴────┐ ░ ├───┤└─────────┘┌────┴────┐ ░ ├───┤└─────────┘┌────┴────┐»\n",
       "«q_2: ┤ RZ(π/2) ├─░─┤ X ├───────────┤ RZ(π/2) ├─░─┤ X ├───────────┤ RZ(π/2) ├»\n",
       "«     └─────────┘ ░ └───┘           └─────────┘ ░ └───┘           └─────────┘»\n",
       "«      ░ ┌───┐                       ░ ┌───┐                       ░ ┌───┐»\n",
       "«q_0: ─░─┤ X ├─────■─────────────────░─┤ X ├─────■─────────────────░─┤ X ├»\n",
       "«      ░ ├───┤┌────┴────┐            ░ ├───┤┌────┴────┐            ░ ├───┤»\n",
       "«q_1: ─░─┤ X ├┤ RZ(π/2) ├─────■──────░─┤ X ├┤ RZ(π/2) ├─────■──────░─┤ X ├»\n",
       "«      ░ ├───┤└─────────┘┌────┴────┐ ░ ├───┤└─────────┘┌────┴────┐ ░ ├───┤»\n",
       "«q_2: ─░─┤ X ├───────────┤ RZ(π/2) ├─░─┤ X ├───────────┤ RZ(π/2) ├─░─┤ X ├»\n",
       "«      ░ └───┘           └─────────┘ ░ └───┘           └─────────┘ ░ └───┘»\n",
       "«                            ░ ┌───┐                       ░ \n",
       "«q_0: ─────■─────────────────░─┤ X ├─────■─────────────────░─\n",
       "«     ┌────┴────┐            ░ ├───┤┌────┴────┐            ░ \n",
       "«q_1: ┤ RZ(π/2) ├─────■──────░─┤ X ├┤ RZ(π/2) ├─────■──────░─\n",
       "«     └─────────┘┌────┴────┐ ░ ├───┤└─────────┘┌────┴────┐ ░ \n",
       "«q_2: ───────────┤ RZ(π/2) ├─░─┤ X ├───────────┤ RZ(π/2) ├─░─\n",
       "«                └─────────┘ ░ └───┘           └─────────┘ ░ "
      ]
     },
     "execution_count": 2,
     "metadata": {},
     "output_type": "execute_result"
    },
    {
     "data": {
      "image/png": "[encoded data removed]",
      "text/plain": [
       "<Figure size 432x288 with 1 Axes>"
      ]
     },
     "metadata": {
      "needs_background": "light"
     },
     "output_type": "display_data"
    }
   ],
   "source": [
    "# Now, attempting to combine everything into a neat function. \n",
    "# Below are all the packages required to run the function. Alternatively, they could be called in the function\n",
    "# however I could to import them all here rather than import them each time the function's called.\n",
    "from qiskit import QuantumCircuit, execute, Aer\n",
    "from qiskit.visualization import plot_histogram\n",
    "import scipy\n",
    "from scipy import pi as pi\n",
    "import matplotlib.pyplot as plt\n",
    "#import numpy as np # Not used in this version of the function\n",
    "\n",
    "def QTC(L, q):\n",
    "    \"\"\"\n",
    "    I've defined the number of cycles the code is run over as L, and q is the number of qubits being simulated.\n",
    "    \n",
    "    This function takes all the qubits initially in [1, 0] or |0> state, and flips the spins, performs a rotation\n",
    "    operation on each qubit relative to another one and \"measures\" the resulting state. I say \"measure\" since it's\n",
    "    run on a simulator and no actual measurement is being carried out on a quantum device.\n",
    "    \n",
    "    Once it's been run over all cycles, the resulting data is stored in a list which is appended after each cycle recording \n",
    "    the state measured and the probability of measuring that state. We then include a barrier between each cycle, so it's\n",
    "    clear each cycle is performed independently.\n",
    "    \n",
    "    From this data, the graph plotting magnetisation vs time expressed as the number of cycles the system has gone though, \n",
    "    is plotted and it should show the system has a period double that of the driving field.\n",
    "    \"\"\"\n",
    "    qtc = QuantumCircuit(q)\n",
    "    backend = Aer.get_backend('statevector_simulator')\n",
    "    for i in range(q):\n",
    "        qtc.initialize([1,0], i)\n",
    "    #statedata = []\n",
    "    histogram = []\n",
    "    for i in range(L):    \n",
    "        for j in range(q):\n",
    "            qtc.x(j)\n",
    "        # These are the rotational control gates coupling qubits. The code I attempted to implement this automatically\n",
    "        # didn't run too well, this was the second attempt running the code. \n",
    "        for k in range(q):\n",
    "            # theta = pi/4 * np.random.randint(1, 15)/20 # Attempted to introduce this random number for the angle but\n",
    "            # it had no discernable affect on the histogram plot but may have an affect on the statedata.\n",
    "            if k + 1 < q:\n",
    "                qtc.crz(pi/2, k, k+1)\n",
    "            else: break\n",
    "        # This is the code to run with q = 3, 3 qubits coupled to the consecutive one.\n",
    "        #qtc.cp(pi/2, 0, 1)\n",
    "        #qtc.cp(pi/2, 1, 2)\n",
    "        \n",
    "        # This code calculated the exact state, which was helpful to ensure the code was running \n",
    "        # as I hoped but isn't needed in the calcuations\n",
    "        #state = execute(qtc, backend).result().get_statevector()\n",
    "        # print(\"Quibits state is = \", state)\n",
    "        #statedata.append(state)\n",
    "        results = execute(qtc, backend).result().get_counts()\n",
    "        histogram.append(results)\n",
    "        #counts = state.get_counts()\n",
    "        #print(state)\n",
    "        qtc.barrier()\n",
    "    qtc.draw()\n",
    "    #plot_histogram(histogram)\n",
    "    \n",
    "    # With the data, the graph plot can be made. At this point, I assumed only |000> or |111> states were present and \n",
    "    # this was plotted to a corresponding magnetisation of 1 or -1.\n",
    "    # Note: to be more accurate, I could try and identify the most probable state out of each cycle and plot the probability\n",
    "    # of |000> or |111> states as +/- the total magnetisation. However, this change would only be significant if running \n",
    "    # this code on a real backend as the simulator only showed these states when I plotted the states of each cycle on a\n",
    "    # histogram (see earlier code). \n",
    "    # The amendment str(q*'0') generalises to q Qubits in the circuit all being in the same state.\n",
    "    mag = []; T = []\n",
    "    for i in range(len(histogram)):\n",
    "        if str(q*'0') in histogram[i]:\n",
    "            mag.append(1)\n",
    "            mag.append(1)\n",
    "        elif str(q*'1') in histogram[i]:\n",
    "            mag.append(-1)\n",
    "            mag.append(-1)\n",
    "        else: break\n",
    "        T.append(i)\n",
    "        T.append(i+1)\n",
    "    \n",
    "    # Now it's just taking everything previously and plotting it on a graph.\n",
    "    # There's also the option to uncomment filename and plt.savefig to save to the sub folder with the MPHYS project work\n",
    "    # in it reserved for plots from this code; it may be worth generating a few more plots to illustrate the general idea\n",
    "    # and make the presentation look busier.\n",
    "    fig = plt.figure()\n",
    "    ax = plt.axes()\n",
    "\n",
    "    ax.plot(T, mag)\n",
    "    title = \"Magnetisation of Idealised Qubit States vs Time\\n for \" + str(L) + \" cycles for \" + str(q) + \" Qubits\"\n",
    "    filename = \"Graph of Magnetisation vs Time for \"+ str(L) + \" cycles for \" + str(q) + \" Qubits\"\n",
    "    plt.title(title)\n",
    "    plt.xlabel(\"Time/ Period of the state flipping cycle\")\n",
    "    plt.ylabel(\"Magnetisation/ maximum magnitude\")\n",
    "    #plt.savefig('Documents\\MPHYS project\\Realisation of QTC code plots/'+filename+'.png')\n",
    "    \n",
    "    return qtc.draw()\n",
    "    \n",
    "#QTC(21,5)  \n",
    "QTC(8, 3)\n",
    "\n",
    "# N.B. Code only plots this for 3 qubits... Might be worth trying to simulate larger systems and adjusting this code\n",
    "# slightly. I think this is due to the labelling of states when appending data to be plotted. \n",
    "\n",
    "# On 04/02, this was fixed so it in principle works for any number of qubits q defined using str(q*'0') in place of \n",
    "# the label defined for a specific string which is a length of q, the number of qubits."
   ]
  },
  {
   "cell_type": "markdown",
   "id": "small-trance",
   "metadata": {},
   "source": [
    "Writing the code from earlier into a function and then tweaking a few bits, I was able to create the expected results rather nicely. I could copy the above cell to a Spyder document and run the code in an IDE, which may be more accessible thn opening this file every time; all functions are imported so the cell runs on its own anyway."
   ]
  },
  {
   "cell_type": "code",
   "execution_count": 5,
   "id": "fifth-discussion",
   "metadata": {},
   "outputs": [
    {
     "name": "stdout",
     "output_type": "stream",
     "text": [
      "[array([ 0.00000000e+00+5.86884769e-06j, -6.84957726e-04+0.00000000e+00j,\n",
      "       -2.93521384e-04+0.00000000e+00j,  0.00000000e+00-3.42571064e-02j,\n",
      "       -1.71176571e-04+0.00000000e+00j,  0.00000000e+00-1.99781492e-02j,\n",
      "        0.00000000e+00-8.56113273e-03j,  9.99176384e-01+0.00000000e+00j]), array([ 9.97510315e-01+0.00000000e+00j,  0.00000000e+00-2.56455934e-02j,\n",
      "        0.00000000e+00-5.41819644e-02j, -1.39299675e-03+0.00000000e+00j,\n",
      "        0.00000000e+00-3.70525033e-02j, -9.52605121e-04+0.00000000e+00j,\n",
      "       -2.01258813e-03+0.00000000e+00j,  0.00000000e+00+5.17428402e-05j]), array([ 0.        +0.00022193j, -0.00352747+0.j        ,\n",
      "       -0.00250011+0.j        ,  0.        -0.03973812j,\n",
      "       -0.00554751+0.j        ,  0.        -0.08817516j,\n",
      "        0.        -0.0624946j ,  0.99332317+0.j        ]), array([ 0.99067731+0.j        ,  0.        -0.06516922j,\n",
      "        0.        -0.09364658j, -0.0061603 +0.j        ,\n",
      "        0.        -0.07369907j, -0.00484811+0.j        ,\n",
      "       -0.00696661+0.j        ,  0.        +0.00045828j]), array([ 0.        +0.0009147j , -0.01332388+0.j        ,\n",
      "       -0.00677338+0.j        ,  0.        -0.09866346j,\n",
      "       -0.00912021+0.j        ,  0.        -0.13284821j,\n",
      "        0.        -0.06753526j,  0.98374206+0.j        ])] \n",
      " [{'000': 3.4443e-11, '001': 4.69167087e-07, '010': 8.6154803e-08, '011': 0.001173549339141, '100': 2.9301419e-08, '101': 0.00039912644709, '110': 7.3292993666e-05, '111': 0.998353446562352}, {'000': 0.99502682917985, '001': 0.000657696460181, '010': 0.002935685270752, '011': 1.94043995e-06, '100': 0.001372888004454, '101': 9.07456517e-07, '110': 4.050510976e-06, '111': 2.677322e-09}, {'000': 4.925268e-08, '001': 1.2443027358e-05, '010': 6.250552941e-06, '011': 0.001579118166776, '100': 3.0774880137e-05, '101': 0.007774859722701, '110': 0.003905574657004, '111': 0.986690929740404}, {'000': 0.981441541255345, '001': 0.004247027100708, '010': 0.008769681557663, '011': 3.7949356813e-05, '100': 0.005431552855262, '101': 2.350415303e-05, '110': 4.8533699565e-05, '111': 2.10021615e-07}, {'000': 8.36681635e-07, '001': 0.000177525849542, '010': 4.5878722203e-05, '011': 0.009734478200424, '100': 8.3178300282e-05, '101': 0.017648646517843, '110': 0.004561010990431, '111': 0.96774844473764}]\n"
     ]
    }
   ],
   "source": [
    "# Investigation into a random rotation on the statevector\n",
    "\n",
    "import numpy as np \n",
    "from qiskit import QuantumCircuit, execute, Aer\n",
    "import scipy\n",
    "from scipy import pi as pi\n",
    "from qiskit.visualization import plot_histogram\n",
    "\n",
    "Qc = QuantumCircuit(3)\n",
    "backend = Aer.get_backend('statevector_simulator')\n",
    "for i in range(3):\n",
    "    Qc.initialize([1,0], i)\n",
    "statedata = []\n",
    "histogram = []\n",
    "for i in range(5): # L = 5, q = 3\n",
    "    for j in range(3):\n",
    "        Qc.x(j)\n",
    "    for k in range(3):\n",
    "            theta = (pi/5) * (np.random.randint(1, 15)/110) # Attempted to introduce this random number for the angle\n",
    "            # to simulate randomness of quantum behaviour to the environment\n",
    "            Qc.rx(theta, k)\n",
    "            \n",
    "    state = execute(Qc, backend).result().get_statevector()\n",
    "    #print(\"Quibits state is = \", state)\n",
    "    statedata.append(state)\n",
    "    results = execute(Qc, backend).result().get_counts()\n",
    "    histogram.append(results)\n",
    "print(statedata, '\\n', histogram)"
   ]
  },
  {
   "cell_type": "markdown",
   "id": "flexible-accreditation",
   "metadata": {},
   "source": [
    "From this code, randomising the rotation angle doesn't change the probability of the state being observed, it's still only |000> or |111> states being observed (only non-zero state amplitudes are these states), as can be seen by the results from the histogram array. So, I don't think randomising the angle will have a discernable effect on magnetisation values seen. May as well omit it to reduce the complexity of the function. Only difference is the value obtained for the complex amplitudes but it doesn't change the probability of the state being observed, and all other states are zero.\n",
    "\n",
    "However, changing the rotation angle to being rx significantly changes the state observed."
   ]
  },
  {
   "cell_type": "code",
   "execution_count": null,
   "id": "forbidden-ceramic",
   "metadata": {},
   "outputs": [],
   "source": []
  }
 ],
 "metadata": {
  "kernelspec": {
   "display_name": "Python 3",
   "language": "python",
   "name": "python3"
  },
  "language_info": {
   "codemirror_mode": {
    "name": "ipython",
    "version": 3
   },
   "file_extension": ".py",
   "mimetype": "text/x-python",
   "name": "python",
   "nbconvert_exporter": "python",
   "pygments_lexer": "ipython3",
   "version": "3.6.12"
  }
 },
 "nbformat": 4,
 "nbformat_minor": 5
}
